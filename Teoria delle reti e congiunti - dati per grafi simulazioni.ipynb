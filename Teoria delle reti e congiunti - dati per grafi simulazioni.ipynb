{
 "cells": [
  {
   "cell_type": "code",
   "execution_count": 1,
   "metadata": {},
   "outputs": [],
   "source": [
    "import pandas as pd\n",
    "from itertools import product, count"
   ]
  },
  {
   "cell_type": "code",
   "execution_count": 2,
   "metadata": {},
   "outputs": [],
   "source": [
    "from matplotlib import pyplot as plt"
   ]
  },
  {
   "cell_type": "code",
   "execution_count": 3,
   "metadata": {},
   "outputs": [],
   "source": [
    "import random"
   ]
  },
  {
   "cell_type": "markdown",
   "metadata": {},
   "source": [
    "## Primo network: famiglie"
   ]
  },
  {
   "cell_type": "code",
   "execution_count": 4,
   "metadata": {},
   "outputs": [],
   "source": [
    "# Generatore di nodi - identificati con interi:\n",
    "c = count()\n",
    "\n",
    "edges = []\n",
    "nodes = []\n",
    "\n",
    "# Inizialmente, è infetto solo l'individuo 0:\n",
    "sick = [0]\n",
    "\n",
    "for gr in range(1, 6):\n",
    "    # Famiglie di 4 persone...\n",
    "    gr_nodes = [next(c) for i in range(4)]\n",
    "    \n",
    "    for i in gr_nodes:\n",
    "        nodes.append((i, gr, int(i in sick)))\n",
    "    \n",
    "    # ... tutte connesse tra di loro:\n",
    "    for i, j in product(gr_nodes, gr_nodes):\n",
    "        if i != j:\n",
    "            edges.append((i, j, 1))"
   ]
  },
  {
   "cell_type": "code",
   "execution_count": 5,
   "metadata": {},
   "outputs": [],
   "source": [
    "df_edges = pd.DataFrame(edges, columns=['i', 'j', 'color'])\n",
    "df_nodes = pd.DataFrame(nodes, columns=['i', 'color', 'sick'])"
   ]
  },
  {
   "cell_type": "code",
   "execution_count": 6,
   "metadata": {},
   "outputs": [],
   "source": [
    "df_edges.to_csv('data/famiglie_edges.csv', index=False)\n",
    "df_nodes.to_csv('data/famiglie_nodes.csv', index=False)"
   ]
  },
  {
   "cell_type": "markdown",
   "metadata": {},
   "source": [
    "## Secondo network: amici"
   ]
  },
  {
   "cell_type": "code",
   "execution_count": 7,
   "metadata": {},
   "outputs": [],
   "source": [
    "# Per la riproducibilità:\n",
    "random.seed(414)\n",
    "\n",
    "# Riutilizza i nodi di prima:\n",
    "edges = list(edges)\n",
    "\n",
    "# 100 passaggi di rewiring (che lascia inalterato il numero di vertici di ogni nodo):\n",
    "for i in range(100):\n",
    "    # estrai due vertici a caso:\n",
    "    p1 = random.randint(0, len(edges) - 1)\n",
    "    p2 = random.randint(0, len(edges) - 1)\n",
    "    i1, j1, _ = edges[p1]\n",
    "    i2, j2, _ = edges[p2]\n",
    "    \n",
    "    if i1 != i2 and j1 != j2:\n",
    "        edges[p1] = (i1, i2, 2)\n",
    "        edges[p2] = (j1, j2, 2)"
   ]
  },
  {
   "cell_type": "code",
   "execution_count": 8,
   "metadata": {},
   "outputs": [],
   "source": [
    "df_edges = pd.DataFrame(edges, columns=['i', 'j', 'color'])"
   ]
  },
  {
   "cell_type": "code",
   "execution_count": 9,
   "metadata": {},
   "outputs": [],
   "source": [
    "df_edges.to_csv('data/famiglie_amici_edges.csv', index=False)"
   ]
  },
  {
   "cell_type": "markdown",
   "metadata": {},
   "source": [
    "## Terzo network: famiglie più un amico a testa"
   ]
  },
  {
   "cell_type": "code",
   "execution_count": 10,
   "metadata": {},
   "outputs": [],
   "source": [
    "# Per la riproducibilità:\n",
    "random.seed(415)\n",
    "\n",
    "# Per ogni nodo, memorizza i contatti:\n",
    "nodes = {}\n",
    "\n",
    "# Ripartiamo da zero con i nodi:\n",
    "c = count()\n",
    "\n",
    "# 30 famiglie...\n",
    "for gr in range(1, 30):\n",
    "    # ... da 4 persone l'una\n",
    "    gr_nodes = [next(c) for i in range(4)]\n",
    "    # ... connesse tra di loro\n",
    "    for n in gr_nodes:\n",
    "        nodes[n] = [m for m in gr_nodes if m != n]\n",
    "\n",
    "# Amici ancora da assegnare:\n",
    "to_match = set(nodes)\n",
    "\n",
    "for n in nodes:\n",
    "    if n not in to_match:\n",
    "        continue\n",
    "    # Assegna a n come amico...\n",
    "    to_match.remove(n)\n",
    "    # ... un altro amico a caso...\n",
    "    peer = random.choice(list(to_match))\n",
    "    # ... che non sia lui stesso:\n",
    "    while peer == n:\n",
    "        random.choice(list(to_match))\n",
    "\n",
    "    # Presentazioni:\n",
    "    nodes[n].append(peer)\n",
    "    nodes[peer].append(n)\n",
    "\n",
    "    # Non cerca più un amico:\n",
    "    to_match.remove(peer)\n",
    "\n",
    "# Calcoliamo le distanze\n",
    "\n",
    "# Distanza massima:\n",
    "GENERATIONS = 6\n",
    "\n",
    "# Nodi già raggiunti\n",
    "reached = {0 : 0}\n",
    "\n",
    "# Nodi dell'ultima \"generazione\" (partiamo solo da 0)\n",
    "last = [0]\n",
    "# ... e della successiva\n",
    "new = []\n",
    "\n",
    "for generation in range(1, GENERATIONS):\n",
    "    # Prendi un nodo appena raggiunto...\n",
    "    for n in last:\n",
    "        # ... e considera tutti i suoi contatti...\n",
    "        for cont in nodes[n]:\n",
    "            # ... non ancora raggiunti...\n",
    "            if cont in reached:\n",
    "                continue\n",
    "            # ... nella nuova generazione.\n",
    "            reached[cont] = generation\n",
    "            new.append(cont)\n",
    "    # Via con la prossima generazione\n",
    "    last = new\n",
    "    new = []\n",
    "\n",
    "# Ricreiamo la lista di nodi e vertici nel solito formato\n",
    "edges = []\n",
    "points = []\n",
    "\n",
    "generations = {g : [] for g in range(GENERATIONS)}\n",
    "generations['Più di 5'] = []\n",
    "for n in nodes:\n",
    "    gen = reached.get(n, 'Più di 5')\n",
    "    generations[gen].append(n)\n",
    "\n",
    "# Scorriamo le generazioni una alla volta così che i nodi\n",
    "# sono in ordine nel csv risultante:\n",
    "for gen in generations:\n",
    "    for n in generations[gen]:\n",
    "        for p in nodes[n]:\n",
    "            edges.append((n, p, 0))\n",
    "        points.append((n, gen, 2 if gen == 0 else 1))"
   ]
  },
  {
   "cell_type": "code",
   "execution_count": 11,
   "metadata": {},
   "outputs": [],
   "source": [
    "df_edges = pd.DataFrame(edges, columns=['i', 'j', 'color'])\n",
    "df_nodes = pd.DataFrame(points, columns=['i', 'color', 'size'])"
   ]
  },
  {
   "cell_type": "code",
   "execution_count": 12,
   "metadata": {},
   "outputs": [],
   "source": [
    "df_edges.to_csv('data/big_edges.csv', index=False)\n",
    "df_nodes.to_csv('data/big_nodes.csv', index=False)"
   ]
  },
  {
   "cell_type": "code",
   "execution_count": 13,
   "metadata": {},
   "outputs": [
    {
     "data": {
      "text/plain": [
       "<matplotlib.axes._subplots.AxesSubplot at 0x7f7725f4a208>"
      ]
     },
     "execution_count": 13,
     "metadata": {},
     "output_type": "execute_result"
    },
    {
     "data": {
      "image/png": "[encoded data removed]",
      "text/plain": [
       "<Figure size 432x288 with 1 Axes>"
      ]
     },
     "metadata": {
      "needs_background": "light"
     },
     "output_type": "display_data"
    }
   ],
   "source": [
    "# 'color' è la distanza: contiamo i valori, ordiniamoli e facciamone la somma cumulata:\n",
    "growth = df_nodes['color'].value_counts().drop('Più di 5').sort_index().cumsum()\n",
    "growth.plot(marker='.', markersize=20)"
   ]
  },
  {
   "cell_type": "code",
   "execution_count": 14,
   "metadata": {},
   "outputs": [],
   "source": [
    "growth.rename('Persone raggiunte').to_csv('data/big_growth.csv')"
   ]
  }
 ],
 "metadata": {
  "kernelspec": {
   "display_name": "Python 3",
   "language": "python",
   "name": "python3"
  },
  "language_info": {
   "codemirror_mode": {
    "name": "ipython",
    "version": 3
   },
   "file_extension": ".py",
   "mimetype": "text/x-python",
   "name": "python",
   "nbconvert_exporter": "python",
   "pygments_lexer": "ipython3",
   "version": "3.7.3"
  }
 },
 "nbformat": 4,
 "nbformat_minor": 2
}
